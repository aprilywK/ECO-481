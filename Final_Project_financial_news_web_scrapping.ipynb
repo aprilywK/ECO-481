{
 "cells": [
  {
   "cell_type": "code",
   "execution_count": 2,
   "metadata": {},
   "outputs": [],
   "source": [
    "#Importing the libraries\n",
    "import selenium\n",
    "from selenium import webdriver\n",
    "from selenium.webdriver.common.keys import Keys\n",
    "from selenium.webdriver.support.ui import WebDriverWait\n",
    "from selenium.webdriver.chrome.service import Service\n",
    "from webdriver_manager.chrome import ChromeDriverManager\n",
    "\n",
    "from selenium.webdriver.common.by import By\n",
    "from selenium.webdriver.common.keys import Keys"
   ]
  },
  {
   "cell_type": "code",
   "execution_count": 15,
   "metadata": {},
   "outputs": [],
   "source": [
    "driver = webdriver.Chrome(service=Service(ChromeDriverManager().install()))\n",
    "driver.set_page_load_timeout(30)\n",
    "driver.implicitly_wait(10)\n",
    "driver.get(\"https://www.wsj.com/news/archive/years\")\n",
    "\n",
    "links = driver.find_elements(By.CSS_SELECTOR, \"a.WSJTheme--month-link--1N8tTFWa \")\n",
    "all_links = []\n",
    "for i in links:\n",
    "    all_links += [i.get_attribute(\"href\")]\n",
    "\n",
    "#day_links = []\n",
    "#for link in all_links:\n",
    "#    driver.get(link)\n",
    "#    d = driver.find_elements(By.CSS_SELECTOR, \"a.WSJTheme--day-link--19pByDpZ\")\n",
    "#    for i in d:\n",
    "#        day_links += i.get_attribute(\"href\")\n",
    "    \n",
    "driver.close()"
   ]
  },
  {
   "cell_type": "code",
   "execution_count": 18,
   "metadata": {},
   "outputs": [
    {
     "data": {
      "text/plain": [
       "'https://www.wsj.com/news/archive/2003/october'"
      ]
     },
     "execution_count": 18,
     "metadata": {},
     "output_type": "execute_result"
    }
   ],
   "source": [
    "final_links = all_links[0:len(all_links) - 37]\n",
    "final_links[-27]"
   ]
  },
  {
   "cell_type": "code",
   "execution_count": 19,
   "metadata": {},
   "outputs": [],
   "source": [
    "day_links = [] # 2001 - 2023 \n",
    "driver = webdriver.Chrome(service=Service(ChromeDriverManager().install())) #initializing the driver before the for loop\n",
    "driver.set_page_load_timeout(30) #setting the timeout\n",
    "driver.implicitly_wait(10) #setting the implicit wait\n",
    "for link in all_links: #looping through the links\n",
    "    driver.get(link) #`getting the link`\n",
    "    d = driver.find_elements(By.CSS_SELECTOR, \"a.WSJTheme--day-link--19pByDpZ\") #getting the day links\n",
    "    for i in d: #looping through the day links\n",
    "        day_links += [i.get_attribute(\"href\")] #appending the day links to the list\n",
    "driver.quit() #closing the driver   "
   ]
  },
  {
   "cell_type": "code",
   "execution_count": 20,
   "metadata": {},
   "outputs": [],
   "source": [
    "import pickle\n",
    "def write_list(a_list):\n",
    "    # store list in binary file so 'wb' mode\n",
    "    with open('listfile', 'wb') as fp:\n",
    "        pickle.dump(names, fp)\n",
    "        print('Done writing list into a binary file')\n",
    "\n",
    "# Read list to memory\n",
    "def read_list():\n",
    "    # for reading also binary mode is important\n",
    "    with open('sampleList', 'rb') as fp:\n",
    "        n_list = pickle.load(fp)\n",
    "        return n_list"
   ]
  },
  {
   "cell_type": "code",
   "execution_count": 21,
   "metadata": {},
   "outputs": [
    {
     "ename": "NameError",
     "evalue": "name 'names' is not defined",
     "output_type": "error",
     "traceback": [
      "\u001b[1;31m---------------------------------------------------------------------------\u001b[0m",
      "\u001b[1;31mNameError\u001b[0m                                 Traceback (most recent call last)",
      "\u001b[1;32mc:\\Users\\rahul\\OneDrive\\Desktop\\Education\\Year 3\\Winter Sem\\ECO481\\Final Project\\Final_Project_financial_news_web_scrapping.ipynb Cell 6\u001b[0m in \u001b[0;36m<cell line: 1>\u001b[1;34m()\u001b[0m\n\u001b[1;32m----> <a href='vscode-notebook-cell:/c%3A/Users/rahul/OneDrive/Desktop/Education/Year%203/Winter%20Sem/ECO481/Final%20Project/Final_Project_financial_news_web_scrapping.ipynb#X10sZmlsZQ%3D%3D?line=0'>1</a>\u001b[0m write_list(day_links)\n",
      "\u001b[1;32mc:\\Users\\rahul\\OneDrive\\Desktop\\Education\\Year 3\\Winter Sem\\ECO481\\Final Project\\Final_Project_financial_news_web_scrapping.ipynb Cell 6\u001b[0m in \u001b[0;36mwrite_list\u001b[1;34m(a_list)\u001b[0m\n\u001b[0;32m      <a href='vscode-notebook-cell:/c%3A/Users/rahul/OneDrive/Desktop/Education/Year%203/Winter%20Sem/ECO481/Final%20Project/Final_Project_financial_news_web_scrapping.ipynb#X10sZmlsZQ%3D%3D?line=1'>2</a>\u001b[0m \u001b[39mdef\u001b[39;00m \u001b[39mwrite_list\u001b[39m(a_list):\n\u001b[0;32m      <a href='vscode-notebook-cell:/c%3A/Users/rahul/OneDrive/Desktop/Education/Year%203/Winter%20Sem/ECO481/Final%20Project/Final_Project_financial_news_web_scrapping.ipynb#X10sZmlsZQ%3D%3D?line=2'>3</a>\u001b[0m     \u001b[39m# store list in binary file so 'wb' mode\u001b[39;00m\n\u001b[0;32m      <a href='vscode-notebook-cell:/c%3A/Users/rahul/OneDrive/Desktop/Education/Year%203/Winter%20Sem/ECO481/Final%20Project/Final_Project_financial_news_web_scrapping.ipynb#X10sZmlsZQ%3D%3D?line=3'>4</a>\u001b[0m     \u001b[39mwith\u001b[39;00m \u001b[39mopen\u001b[39m(\u001b[39m'\u001b[39m\u001b[39mlistfile\u001b[39m\u001b[39m'\u001b[39m, \u001b[39m'\u001b[39m\u001b[39mwb\u001b[39m\u001b[39m'\u001b[39m) \u001b[39mas\u001b[39;00m fp:\n\u001b[1;32m----> <a href='vscode-notebook-cell:/c%3A/Users/rahul/OneDrive/Desktop/Education/Year%203/Winter%20Sem/ECO481/Final%20Project/Final_Project_financial_news_web_scrapping.ipynb#X10sZmlsZQ%3D%3D?line=4'>5</a>\u001b[0m         pickle\u001b[39m.\u001b[39mdump(names, fp)\n\u001b[0;32m      <a href='vscode-notebook-cell:/c%3A/Users/rahul/OneDrive/Desktop/Education/Year%203/Winter%20Sem/ECO481/Final%20Project/Final_Project_financial_news_web_scrapping.ipynb#X10sZmlsZQ%3D%3D?line=5'>6</a>\u001b[0m         \u001b[39mprint\u001b[39m(\u001b[39m'\u001b[39m\u001b[39mDone writing list into a binary file\u001b[39m\u001b[39m'\u001b[39m)\n",
      "\u001b[1;31mNameError\u001b[0m: name 'names' is not defined"
     ]
    }
   ],
   "source": [
    "write_list(day_links)"
   ]
  },
  {
   "cell_type": "code",
   "execution_count": 23,
   "metadata": {},
   "outputs": [],
   "source": [
    "file = open('webscrapped.txt', 'w')\n",
    "for item in day_links:\n",
    "\tfile.write(item+\"\\n\")\n",
    "file.close()"
   ]
  },
  {
   "cell_type": "code",
   "execution_count": 6,
   "metadata": {},
   "outputs": [],
   "source": [
    "day_links = open('webscrapped.txt', 'r').read().splitlines()\n",
    "edited_day_links = day_links[0:len(day_links) - 1098]"
   ]
  },
  {
   "cell_type": "code",
   "execution_count": 5,
   "metadata": {},
   "outputs": [
    {
     "data": {
      "text/plain": [
       "'https://www.wsj.com/news/archive/2001/12/31'"
      ]
     },
     "execution_count": 5,
     "metadata": {},
     "output_type": "execute_result"
    }
   ],
   "source": [
    "day_links[-1098]"
   ]
  },
  {
   "cell_type": "code",
   "execution_count": 81,
   "metadata": {},
   "outputs": [
    {
     "name": "stdout",
     "output_type": "stream",
     "text": [
      "https://www.wsj.com/articles/elementary-school-teacher-shot-by-6-year-old-in-virginia-police-say-11673047864\n"
     ]
    }
   ],
   "source": [
    "##Just checking if the code works\n",
    "\n",
    "driver = webdriver.Chrome(service=Service(ChromeDriverManager().install())) #initializing the driver \n",
    "driver.set_page_load_timeout(30) #setting the timeout\n",
    "driver.implicitly_wait(10) #setting the implicit wait\n",
    "driver.get(edited_daylnks[5]) #`getting the link`\n",
    "all = driver.find_elements(By.CSS_SELECTOR, \"h2 > a\") #getting the day links\n",
    "print(all[0].get_attribute(\"href\"))\n",
    "driver.quit() #closing the driver\n",
    "\n",
    "\n",
    "## It does!!"
   ]
  },
  {
   "cell_type": "code",
   "execution_count": 82,
   "metadata": {},
   "outputs": [
    {
     "name": "stdout",
     "output_type": "stream",
     "text": [
      "29\n",
      "50\n",
      "50\n",
      "50\n",
      "50\n",
      "50\n",
      "34\n",
      "50\n",
      "50\n",
      "50\n",
      "50\n",
      "50\n",
      "50\n",
      "36\n",
      "36\n",
      "50\n",
      "50\n",
      "50\n",
      "50\n",
      "50\n",
      "34\n",
      "48\n",
      "50\n",
      "50\n",
      "50\n",
      "50\n",
      "50\n",
      "44\n",
      "50\n",
      "50\n",
      "50\n",
      "50\n",
      "50\n",
      "50\n",
      "44\n",
      "50\n",
      "50\n",
      "50\n",
      "50\n",
      "50\n",
      "50\n",
      "36\n",
      "50\n",
      "50\n",
      "50\n",
      "50\n",
      "50\n",
      "50\n",
      "35\n",
      "33\n",
      "50\n",
      "50\n",
      "50\n",
      "50\n",
      "50\n",
      "30\n",
      "50\n",
      "50\n",
      "50\n",
      "50\n",
      "50\n",
      "50\n",
      "38\n",
      "50\n",
      "50\n",
      "50\n",
      "50\n",
      "50\n",
      "50\n",
      "37\n",
      "50\n",
      "50\n",
      "50\n",
      "50\n",
      "50\n",
      "50\n",
      "36\n",
      "50\n",
      "50\n",
      "50\n",
      "50\n",
      "50\n",
      "50\n",
      "43\n",
      "50\n",
      "50\n",
      "18\n",
      "49\n",
      "50\n",
      "50\n",
      "50\n",
      "50\n",
      "50\n",
      "35\n",
      "50\n",
      "50\n",
      "50\n",
      "50\n",
      "50\n",
      "50\n",
      "36\n",
      "23\n",
      "50\n",
      "50\n",
      "50\n",
      "50\n",
      "50\n",
      "24\n",
      "49\n",
      "50\n",
      "50\n",
      "50\n",
      "50\n",
      "50\n",
      "33\n",
      "50\n",
      "50\n",
      "50\n"
     ]
    },
    {
     "ename": "TimeoutException",
     "evalue": "Message: timeout: Timed out receiving message from renderer: 27.517\n  (Session info: chrome=111.0.5563.111)\nStacktrace:\nBacktrace:\n\t(No symbol) [0x00BCDCE3]\n\t(No symbol) [0x00B639D1]\n\t(No symbol) [0x00A74DA8]\n\t(No symbol) [0x00A680AF]\n\t(No symbol) [0x00A67EFC]\n\t(No symbol) [0x00A66BF6]\n\t(No symbol) [0x00A6747A]\n\t(No symbol) [0x00A6FF62]\n\t(No symbol) [0x00A7A348]\n\t(No symbol) [0x00A7CD46]\n\t(No symbol) [0x00A677D3]\n\t(No symbol) [0x00A7A211]\n\t(No symbol) [0x00ACD779]\n\t(No symbol) [0x00ABACC6]\n\t(No symbol) [0x00A96F68]\n\t(No symbol) [0x00A980CD]\n\tGetHandleVerifier [0x00E43832+2506274]\n\tGetHandleVerifier [0x00E79794+2727300]\n\tGetHandleVerifier [0x00E7E36C+2746716]\n\tGetHandleVerifier [0x00C76690+617600]\n\t(No symbol) [0x00B6C712]\n\t(No symbol) [0x00B71FF8]\n\t(No symbol) [0x00B720DB]\n\t(No symbol) [0x00B7C63B]\n\tBaseThreadInitThunk [0x75F87D69+25]\n\tRtlInitializeExceptionChain [0x775FB74B+107]\n\tRtlClearBits [0x775FB6CF+191]\n",
     "output_type": "error",
     "traceback": [
      "\u001b[1;31m---------------------------------------------------------------------------\u001b[0m",
      "\u001b[1;31mTimeoutException\u001b[0m                          Traceback (most recent call last)",
      "\u001b[1;32mc:\\Users\\rahul\\OneDrive\\Desktop\\Education\\Year 3\\Winter Sem\\ECO481\\Final Project\\Final_Project_financial_news_web_scrapping.ipynb Cell 9\u001b[0m in \u001b[0;36m<cell line: 9>\u001b[1;34m()\u001b[0m\n\u001b[0;32m      <a href='vscode-notebook-cell:/c%3A/Users/rahul/OneDrive/Desktop/Education/Year%203/Winter%20Sem/ECO481/Final%20Project/Final_Project_financial_news_web_scrapping.ipynb#X12sZmlsZQ%3D%3D?line=7'>8</a>\u001b[0m article_links \u001b[39m=\u001b[39m []\n\u001b[0;32m      <a href='vscode-notebook-cell:/c%3A/Users/rahul/OneDrive/Desktop/Education/Year%203/Winter%20Sem/ECO481/Final%20Project/Final_Project_financial_news_web_scrapping.ipynb#X12sZmlsZQ%3D%3D?line=8'>9</a>\u001b[0m \u001b[39mfor\u001b[39;00m link \u001b[39min\u001b[39;00m edited_daylnks: \u001b[39m#looping through the links\u001b[39;00m\n\u001b[1;32m---> <a href='vscode-notebook-cell:/c%3A/Users/rahul/OneDrive/Desktop/Education/Year%203/Winter%20Sem/ECO481/Final%20Project/Final_Project_financial_news_web_scrapping.ipynb#X12sZmlsZQ%3D%3D?line=9'>10</a>\u001b[0m     driver\u001b[39m.\u001b[39;49mget(link) \u001b[39m#`getting the link`\u001b[39;00m\n\u001b[0;32m     <a href='vscode-notebook-cell:/c%3A/Users/rahul/OneDrive/Desktop/Education/Year%203/Winter%20Sem/ECO481/Final%20Project/Final_Project_financial_news_web_scrapping.ipynb#X12sZmlsZQ%3D%3D?line=10'>11</a>\u001b[0m     \u001b[39mall\u001b[39m \u001b[39m=\u001b[39m driver\u001b[39m.\u001b[39mfind_elements(By\u001b[39m.\u001b[39mCSS_SELECTOR, \u001b[39m\"\u001b[39m\u001b[39mh2 > a\u001b[39m\u001b[39m\"\u001b[39m) \u001b[39m#getting the day links\u001b[39;00m\n\u001b[0;32m     <a href='vscode-notebook-cell:/c%3A/Users/rahul/OneDrive/Desktop/Education/Year%203/Winter%20Sem/ECO481/Final%20Project/Final_Project_financial_news_web_scrapping.ipynb#X12sZmlsZQ%3D%3D?line=11'>12</a>\u001b[0m     \u001b[39mprint\u001b[39m(\u001b[39mlen\u001b[39m(\u001b[39mall\u001b[39m))\n",
      "File \u001b[1;32m~\\AppData\\Roaming\\Python\\Python39\\site-packages\\selenium\\webdriver\\remote\\webdriver.py:449\u001b[0m, in \u001b[0;36mWebDriver.get\u001b[1;34m(self, url)\u001b[0m\n\u001b[0;32m    447\u001b[0m \u001b[39mdef\u001b[39;00m \u001b[39mget\u001b[39m(\u001b[39mself\u001b[39m, url: \u001b[39mstr\u001b[39m) \u001b[39m-\u001b[39m\u001b[39m>\u001b[39m \u001b[39mNone\u001b[39;00m:\n\u001b[0;32m    448\u001b[0m     \u001b[39m\"\"\"Loads a web page in the current browser session.\"\"\"\u001b[39;00m\n\u001b[1;32m--> 449\u001b[0m     \u001b[39mself\u001b[39;49m\u001b[39m.\u001b[39;49mexecute(Command\u001b[39m.\u001b[39;49mGET, {\u001b[39m\"\u001b[39;49m\u001b[39murl\u001b[39;49m\u001b[39m\"\u001b[39;49m: url})\n",
      "File \u001b[1;32m~\\AppData\\Roaming\\Python\\Python39\\site-packages\\selenium\\webdriver\\remote\\webdriver.py:440\u001b[0m, in \u001b[0;36mWebDriver.execute\u001b[1;34m(self, driver_command, params)\u001b[0m\n\u001b[0;32m    438\u001b[0m response \u001b[39m=\u001b[39m \u001b[39mself\u001b[39m\u001b[39m.\u001b[39mcommand_executor\u001b[39m.\u001b[39mexecute(driver_command, params)\n\u001b[0;32m    439\u001b[0m \u001b[39mif\u001b[39;00m response:\n\u001b[1;32m--> 440\u001b[0m     \u001b[39mself\u001b[39;49m\u001b[39m.\u001b[39;49merror_handler\u001b[39m.\u001b[39;49mcheck_response(response)\n\u001b[0;32m    441\u001b[0m     response[\u001b[39m\"\u001b[39m\u001b[39mvalue\u001b[39m\u001b[39m\"\u001b[39m] \u001b[39m=\u001b[39m \u001b[39mself\u001b[39m\u001b[39m.\u001b[39m_unwrap_value(response\u001b[39m.\u001b[39mget(\u001b[39m\"\u001b[39m\u001b[39mvalue\u001b[39m\u001b[39m\"\u001b[39m, \u001b[39mNone\u001b[39;00m))\n\u001b[0;32m    442\u001b[0m     \u001b[39mreturn\u001b[39;00m response\n",
      "File \u001b[1;32m~\\AppData\\Roaming\\Python\\Python39\\site-packages\\selenium\\webdriver\\remote\\errorhandler.py:245\u001b[0m, in \u001b[0;36mErrorHandler.check_response\u001b[1;34m(self, response)\u001b[0m\n\u001b[0;32m    243\u001b[0m         alert_text \u001b[39m=\u001b[39m value[\u001b[39m\"\u001b[39m\u001b[39malert\u001b[39m\u001b[39m\"\u001b[39m]\u001b[39m.\u001b[39mget(\u001b[39m\"\u001b[39m\u001b[39mtext\u001b[39m\u001b[39m\"\u001b[39m)\n\u001b[0;32m    244\u001b[0m     \u001b[39mraise\u001b[39;00m exception_class(message, screen, stacktrace, alert_text)  \u001b[39m# type: ignore[call-arg]  # mypy is not smart enough here\u001b[39;00m\n\u001b[1;32m--> 245\u001b[0m \u001b[39mraise\u001b[39;00m exception_class(message, screen, stacktrace)\n",
      "\u001b[1;31mTimeoutException\u001b[0m: Message: timeout: Timed out receiving message from renderer: 27.517\n  (Session info: chrome=111.0.5563.111)\nStacktrace:\nBacktrace:\n\t(No symbol) [0x00BCDCE3]\n\t(No symbol) [0x00B639D1]\n\t(No symbol) [0x00A74DA8]\n\t(No symbol) [0x00A680AF]\n\t(No symbol) [0x00A67EFC]\n\t(No symbol) [0x00A66BF6]\n\t(No symbol) [0x00A6747A]\n\t(No symbol) [0x00A6FF62]\n\t(No symbol) [0x00A7A348]\n\t(No symbol) [0x00A7CD46]\n\t(No symbol) [0x00A677D3]\n\t(No symbol) [0x00A7A211]\n\t(No symbol) [0x00ACD779]\n\t(No symbol) [0x00ABACC6]\n\t(No symbol) [0x00A96F68]\n\t(No symbol) [0x00A980CD]\n\tGetHandleVerifier [0x00E43832+2506274]\n\tGetHandleVerifier [0x00E79794+2727300]\n\tGetHandleVerifier [0x00E7E36C+2746716]\n\tGetHandleVerifier [0x00C76690+617600]\n\t(No symbol) [0x00B6C712]\n\t(No symbol) [0x00B71FF8]\n\t(No symbol) [0x00B720DB]\n\t(No symbol) [0x00B7C63B]\n\tBaseThreadInitThunk [0x75F87D69+25]\n\tRtlInitializeExceptionChain [0x775FB74B+107]\n\tRtlClearBits [0x775FB6CF+191]\n"
     ]
    }
   ],
   "source": [
    "## {Title: \"Title\", Date: \"Date\", Link: \"Link\", Topic: \"Topic\", Entire Article: \"Entire Article\"}\n",
    "# implementing the previous code for all days and every article in each day\n",
    "\n",
    "driver = webdriver.Chrome(service=Service(ChromeDriverManager().install())) #initializing the driver before the for loop\n",
    "driver.set_page_load_timeout(30) #setting the timeout\n",
    "driver.implicitly_wait(10) #setting the implicit wait\n",
    "\n",
    "article_links = []\n",
    "for link in edited_daylnks: #looping through the links\n",
    "    driver.get(link) #`getting the link`\n",
    "    all = driver.find_elements(By.CSS_SELECTOR, \"h2 > a\") #getting the day links\n",
    "    for i in all: #looping through the day links\n",
    "        #print(i.get_attribute(\"href\"))\n",
    "        article_links += [i.get_attribute(\"href\")] #appending the article links to the list\n",
    "driver.quit() #closing the driver\n"
   ]
  },
  {
   "cell_type": "code",
   "execution_count": 12,
   "metadata": {},
   "outputs": [],
   "source": [
    "from concurrent import futures\n",
    "article_links_2 = []\n",
    "def selenium_work(url):\n",
    "    chromeOptions = webdriver.ChromeOptions()\n",
    "    chromeOptions.add_argument(\"--headless\") \n",
    "    driver = webdriver.Chrome(service=Service(ChromeDriverManager().install()))\n",
    "    driver.get(url)\n",
    "    all = driver.find_elements(By.CSS_SELECTOR, \"h2 > a\") #getting the day links\n",
    "    for i in all: #looping through the day links\n",
    "        #print(i.get_attribute(\"href\"))\n",
    "        article_links_2 += [i.get_attribute(\"href\")] \n",
    "    \n",
    "    #<actual work that needs to be done be selenium>\n",
    "\n",
    "# default number of threads is optimized for cpu cores \n",
    "# but you can set with `max_workers` like `futures.ThreadPoolExecutor(max_workers=...)`\n",
    "with futures.ThreadPoolExecutor(max_workers=2) as executor:     \n",
    "    # store the url for each thread as a dict, so we can know which thread fails\n",
    "    future_results = { url : executor.submit(selenium_work, edited_day_links[0:2]) for url in edited_day_links[0:2]}\n",
    "    #for url, future in future_results.items(): \n",
    "        #try:        \n",
    "        #   future.result() # can use `timeout` to wait max seconds for each thread  \n",
    "        #except Exception as exc: # can give a exception in some thread\n",
    "        #   print('url {:0} generated an exception: {:1}'.format(url, exc))"
   ]
  },
  {
   "cell_type": "code",
   "execution_count": 16,
   "metadata": {},
   "outputs": [],
   "source": [
    "import multiprocessing as mp\n",
    "\n",
    "\n",
    "def worker(url):\n",
    "    driver = webdriver.Chrome(service=Service(ChromeDriverManager().install()))\n",
    "    driver.get(url)\n",
    "    driver.set_page_load_timeout(30) #setting the timeout\n",
    "    driver.implicitly_wait(10) #setting the implicit wait\n",
    "    driver.get(url) #`getting the link`\n",
    "    all = driver.find_elements(By.CSS_SELECTOR, \"h2 > a\") #getting the day links\n",
    "    print(all[0].get_attribute(\"href\"))\n",
    "    driver.quit() #closing the driver\n",
    "    driver.quit()\n",
    "\n",
    "\n",
    "#url_list = [\"https://github.com/Aqua-4/auto-insta/blob/master/refresh_db.py\",\"https://stackoverflow.com/questions/59706118/how-to-run-multiple-selenium-drivers-parallelly\"]\n",
    "if __name__ == '__main__':\n",
    "    p = mp.Pool(mp.cpu_count())\n",
    "    p.map(worker, edited_day_links[0:2])"
   ]
  },
  {
   "cell_type": "code",
   "execution_count": 15,
   "metadata": {},
   "outputs": [
    {
     "data": {
      "text/plain": [
       "<Future at 0x22f53ac2ee0 state=finished raised InvalidArgumentException>"
      ]
     },
     "execution_count": 15,
     "metadata": {},
     "output_type": "execute_result"
    }
   ],
   "source": [
    "#article_links[-50]\n",
    "future_results[day_links[0]]"
   ]
  }
 ],
 "metadata": {
  "kernelspec": {
   "display_name": "Python 3",
   "language": "python",
   "name": "python3"
  },
  "language_info": {
   "codemirror_mode": {
    "name": "ipython",
    "version": 3
   },
   "file_extension": ".py",
   "mimetype": "text/x-python",
   "name": "python",
   "nbconvert_exporter": "python",
   "pygments_lexer": "ipython3",
   "version": "3.9.12"
  },
  "orig_nbformat": 4
 },
 "nbformat": 4,
 "nbformat_minor": 2
}
