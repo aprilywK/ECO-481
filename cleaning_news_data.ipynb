{
 "cells": [
  {
   "cell_type": "code",
   "execution_count": 1,
   "metadata": {},
   "outputs": [],
   "source": [
    "import pandas as pd\n",
    "import numpy as np\n",
    "import matplotlib.pyplot as plt\n"
   ]
  },
  {
   "cell_type": "code",
   "execution_count": 7,
   "metadata": {},
   "outputs": [],
   "source": []
  },
  {
   "cell_type": "code",
   "execution_count": 17,
   "metadata": {},
   "outputs": [],
   "source": [
    "webscrapped_1 = pd.read_csv(\"C:\\\\Users\\\\rahul\\\\OneDrive\\\\Desktop\\\\Education\\\\Year 3\\\\Winter Sem\\\\ECO481\\\\ourfirstscraper\\\\article_4000_1.csv\")\n",
    "webscrapped_2 = pd.read_csv(\"C:\\\\Users\\\\rahul\\\\OneDrive\\\\Desktop\\\\Education\\\\Year 3\\\\Winter Sem\\\\ECO481\\\\ourfirstscraper\\\\article_4000_2.csv\")\n",
    "webscrapped_3 = pd.read_csv(\"C:\\\\Users\\\\rahul\\\\OneDrive\\\\Desktop\\\\Education\\\\Year 3\\\\Winter Sem\\\\ECO481\\\\ourfirstscraper\\\\article_4000_3.csv\")\n",
    "webscrapped_4 = pd.read_csv(\"C:\\\\Users\\\\rahul\\\\OneDrive\\\\Desktop\\\\Education\\\\Year 3\\\\Winter Sem\\\\ECO481\\\\ourfirstscraper\\\\article_4000_4.csv\")\n",
    "webscrapped_5 = pd.read_csv(\"C:\\\\Users\\\\rahul\\\\OneDrive\\\\Desktop\\\\Education\\\\Year 3\\\\Winter Sem\\\\ECO481\\\\ourfirstscraper\\\\article_4000_5.csv\")\n",
    "webscrapped_5_2 = pd.read_csv(\"C:\\\\Users\\\\rahul\\\\OneDrive\\\\Desktop\\\\Education\\\\Year 3\\\\Winter Sem\\\\ECO481\\\\ourfirstscraper\\\\article_4000_5_2.csv\")\n",
    "webscrapped_5_3 = pd.read_csv(\"C:\\\\Users\\\\rahul\\\\OneDrive\\\\Desktop\\\\Education\\\\Year 3\\\\Winter Sem\\\\ECO481\\\\ourfirstscraper\\\\article_4000_5_3.csv\")\n",
    "webscrapped_6 = pd.read_csv(\"C:\\\\Users\\\\rahul\\\\OneDrive\\\\Desktop\\\\Education\\\\Year 3\\\\Winter Sem\\\\ECO481\\\\ourfirstscraper\\\\article_4000_6.csv\")\n",
    "webscrapped_7 = pd.read_csv(\"C:\\\\Users\\\\rahul\\\\OneDrive\\\\Desktop\\\\Education\\\\Year 3\\\\Winter Sem\\\\ECO481\\\\ourfirstscraper\\\\article_4000_7.csv\")\n",
    "webscrapped_7_2 = pd.read_csv(\"C:\\\\Users\\\\rahul\\\\OneDrive\\\\Desktop\\\\Education\\\\Year 3\\\\Winter Sem\\\\ECO481\\\\ourfirstscraper\\\\article_4000_7_2.csv\")\n",
    "webscrapped_8 = pd.read_csv(\"C:\\\\Users\\\\rahul\\\\OneDrive\\\\Desktop\\\\Education\\\\Year 3\\\\Winter Sem\\\\ECO481\\\\ourfirstscraper\\\\article_4000_8.csv\")\n",
    "webscrapped_8_2 = pd.read_csv(\"C:\\\\Users\\\\rahul\\\\OneDrive\\\\Desktop\\\\Education\\\\Year 3\\\\Winter Sem\\\\ECO481\\\\ourfirstscraper\\\\article_4000_8_2.csv\")\n",
    "webscrapped_9 = pd.read_csv(\"C:\\\\Users\\\\rahul\\\\OneDrive\\\\Desktop\\\\Education\\\\Year 3\\\\Winter Sem\\\\ECO481\\\\ourfirstscraper\\\\article_4000_9_retry.csv\")\n",
    "webscrapped_9_2 = pd.read_csv(\"C:\\\\Users\\\\rahul\\\\OneDrive\\\\Desktop\\\\Education\\\\Year 3\\\\Winter Sem\\\\ECO481\\\\ourfirstscraper\\\\article_4000_9_retry_2.csv\")\n",
    "webscrapped_10 = pd.read_csv(\"C:\\\\Users\\\\rahul\\\\OneDrive\\\\Desktop\\\\Education\\\\Year 3\\\\Winter Sem\\\\ECO481\\\\ourfirstscraper\\\\article_4000_10.csv\")\n",
    "webscrapped_10_2 = pd.read_csv(\"C:\\\\Users\\\\rahul\\\\OneDrive\\\\Desktop\\\\Education\\\\Year 3\\\\Winter Sem\\\\ECO481\\\\ourfirstscraper\\\\article_4000_10_2.csv\")\n",
    "webscrapped_11 = pd.read_csv(\"C:\\\\Users\\\\rahul\\\\OneDrive\\\\Desktop\\\\Education\\\\Year 3\\\\Winter Sem\\\\ECO481\\\\ourfirstscraper\\\\article_4000_11.csv\")\n",
    "webscrapped_11_2 = pd.read_csv(\"C:\\\\Users\\\\rahul\\\\OneDrive\\\\Desktop\\\\Education\\\\Year 3\\\\Winter Sem\\\\ECO481\\\\ourfirstscraper\\\\article_4000_11_2.csv\")\n",
    "webscrapped_11_3 = pd.read_csv(\"C:\\\\Users\\\\rahul\\\\OneDrive\\\\Desktop\\\\Education\\\\Year 3\\\\Winter Sem\\\\ECO481\\\\ourfirstscraper\\\\article_4000_11_3.csv\")\n",
    "webscrapped_12 = pd.read_csv(\"C:\\\\Users\\\\rahul\\\\OneDrive\\\\Desktop\\\\Education\\\\Year 3\\\\Winter Sem\\\\ECO481\\\\ourfirstscraper\\\\article_4000_12.csv\")\n",
    "webscrapped_12_2 = pd.read_csv(\"C:\\\\Users\\\\rahul\\\\OneDrive\\\\Desktop\\\\Education\\\\Year 3\\\\Winter Sem\\\\ECO481\\\\ourfirstscraper\\\\article_4000_12_2.csv\")\n",
    "webscrapped_12_4 = pd.read_csv(\"C:\\\\Users\\\\rahul\\\\OneDrive\\\\Desktop\\\\Education\\\\Year 3\\\\Winter Sem\\\\ECO481\\\\ourfirstscraper\\\\article_4000_12_4.csv\")\n",
    "webscrapped_13 = pd.read_csv(\"C:\\\\Users\\\\rahul\\\\OneDrive\\\\Desktop\\\\Education\\\\Year 3\\\\Winter Sem\\\\ECO481\\\\ourfirstscraper\\\\article_4000_13.csv\")\n",
    "webscrapped_14 = pd.read_csv(\"C:\\\\Users\\\\rahul\\\\OneDrive\\\\Desktop\\\\Education\\\\Year 3\\\\Winter Sem\\\\ECO481\\\\ourfirstscraper\\\\article_4000_14.csv\")\n",
    "webscrapped_14_2 = pd.read_csv(\"C:\\\\Users\\\\rahul\\\\OneDrive\\\\Desktop\\\\Education\\\\Year 3\\\\Winter Sem\\\\ECO481\\\\ourfirstscraper\\\\article_4000_14_2.csv\")\n",
    "webscrapped_14_4_try = pd.read_csv(\"C:\\\\Users\\\\rahul\\\\OneDrive\\\\Desktop\\\\Education\\\\Year 3\\\\Winter Sem\\\\ECO481\\\\ourfirstscraper\\\\article_4000_14_4_try.csv\")\n",
    "webscrapped_15 = pd.read_csv(\"C:\\\\Users\\\\rahul\\\\OneDrive\\\\Desktop\\\\Education\\\\Year 3\\\\Winter Sem\\\\ECO481\\\\ourfirstscraper\\\\article_4000_15.csv\")\n",
    "webscrapped_15_2 = pd.read_csv(\"C:\\\\Users\\\\rahul\\\\OneDrive\\\\Desktop\\\\Education\\\\Year 3\\\\Winter Sem\\\\ECO481\\\\ourfirstscraper\\\\article_4000_15_2.csv\")\n",
    "webscrapped_15_3 = pd.read_csv(\"C:\\\\Users\\\\rahul\\\\OneDrive\\\\Desktop\\\\Education\\\\Year 3\\\\Winter Sem\\\\ECO481\\\\ourfirstscraper\\\\article_4000_15_3.csv\")\n",
    "webscrapped_16 = pd.read_csv(\"C:\\\\Users\\\\rahul\\\\OneDrive\\\\Desktop\\\\Education\\\\Year 3\\\\Winter Sem\\\\ECO481\\\\ourfirstscraper\\\\article_4000_16.csv\")\n",
    "webscrapped_16_try = pd.read_csv(\"C:\\\\Users\\\\rahul\\\\OneDrive\\\\Desktop\\\\Education\\\\Year 3\\\\Winter Sem\\\\ECO481\\\\ourfirstscraper\\\\article_4000_16_try.csv\")\n",
    "webscrapped_17 = pd.read_csv(\"C:\\\\Users\\\\rahul\\\\OneDrive\\\\Desktop\\\\Education\\\\Year 3\\\\Winter Sem\\\\ECO481\\\\ourfirstscraper\\\\article_4000_17.csv\")\n",
    "webscrapped_18 = pd.read_csv(\"C:\\\\Users\\\\rahul\\\\OneDrive\\\\Desktop\\\\Education\\\\Year 3\\\\Winter Sem\\\\ECO481\\\\ourfirstscraper\\\\article_4000_18.csv\")\n",
    "webscrapped_18_2 = pd.read_csv(\"C:\\\\Users\\\\rahul\\\\OneDrive\\\\Desktop\\\\Education\\\\Year 3\\\\Winter Sem\\\\ECO481\\\\ourfirstscraper\\\\article_4000_18_2.csv\")\n",
    "webscrapped_19 = pd.read_csv(\"C:\\\\Users\\\\rahul\\\\OneDrive\\\\Desktop\\\\Education\\\\Year 3\\\\Winter Sem\\\\ECO481\\\\ourfirstscraper\\\\article_4000_19.csv\")\n",
    "webscrapped_20 = pd.read_csv(\"C:\\\\Users\\\\rahul\\\\OneDrive\\\\Desktop\\\\Education\\\\Year 3\\\\Winter Sem\\\\ECO481\\\\ourfirstscraper\\\\article_4000_20.csv\")\n",
    "webscrapped_20_2 = pd.read_csv(\"C:\\\\Users\\\\rahul\\\\OneDrive\\\\Desktop\\\\Education\\\\Year 3\\\\Winter Sem\\\\ECO481\\\\ourfirstscraper\\\\article_4000_20_2.csv\")\n",
    "webscrapped_21 = pd.read_csv(\"C:\\\\Users\\\\rahul\\\\OneDrive\\\\Desktop\\\\Education\\\\Year 3\\\\Winter Sem\\\\ECO481\\\\ourfirstscraper\\\\article_4000_21.csv\")\n",
    "webscrapped_21_2 = pd.read_csv(\"C:\\\\Users\\\\rahul\\\\OneDrive\\\\Desktop\\\\Education\\\\Year 3\\\\Winter Sem\\\\ECO481\\\\ourfirstscraper\\\\article_4000_21_2.csv\")\n",
    "webscrapped_22 = pd.read_csv(\"C:\\\\Users\\\\rahul\\\\OneDrive\\\\Desktop\\\\Education\\\\Year 3\\\\Winter Sem\\\\ECO481\\\\ourfirstscraper\\\\article_4000_22.csv\")\n",
    "webscrapped_22_2 = pd.read_csv(\"C:\\\\Users\\\\rahul\\\\OneDrive\\\\Desktop\\\\Education\\\\Year 3\\\\Winter Sem\\\\ECO481\\\\ourfirstscraper\\\\article_4000_22_2.csv\")\n",
    "webscrapped_22_3 = pd.read_csv(\"C:\\\\Users\\\\rahul\\\\OneDrive\\\\Desktop\\\\Education\\\\Year 3\\\\Winter Sem\\\\ECO481\\\\ourfirstscraper\\\\article_4000_22_3.csv\")\n",
    "webscrapped_23 = pd.read_csv(\"C:\\\\Users\\\\rahul\\\\OneDrive\\\\Desktop\\\\Education\\\\Year 3\\\\Winter Sem\\\\ECO481\\\\ourfirstscraper\\\\article_4000_23.csv\")\n",
    "webscrapped_23_2 = pd.read_csv(\"C:\\\\Users\\\\rahul\\\\OneDrive\\\\Desktop\\\\Education\\\\Year 3\\\\Winter Sem\\\\ECO481\\\\ourfirstscraper\\\\article_4000_23_2.csv\")\n",
    "webscrapped_23_3 = pd.read_csv(\"C:\\\\Users\\\\rahul\\\\OneDrive\\\\Desktop\\\\Education\\\\Year 3\\\\Winter Sem\\\\ECO481\\\\ourfirstscraper\\\\article_4000_23_3.csv\")\n",
    "webscrapped_24 = pd.read_csv(\"C:\\\\Users\\\\rahul\\\\OneDrive\\\\Desktop\\\\Education\\\\Year 3\\\\Winter Sem\\\\ECO481\\\\ourfirstscraper\\\\article_4000_24.csv\")\n",
    "webscrapped_24_2 = pd.read_csv(\"C:\\\\Users\\\\rahul\\\\OneDrive\\\\Desktop\\\\Education\\\\Year 3\\\\Winter Sem\\\\ECO481\\\\ourfirstscraper\\\\article_4000_24_2.csv\")\n",
    "webscrapped_25 = pd.read_csv(\"C:\\\\Users\\\\rahul\\\\OneDrive\\\\Desktop\\\\Education\\\\Year 3\\\\Winter Sem\\\\ECO481\\\\ourfirstscraper\\\\article_4000_25.csv\")\n",
    "webscrapped_25_1 = pd.read_csv(\"C:\\\\Users\\\\rahul\\\\OneDrive\\\\Desktop\\\\Education\\\\Year 3\\\\Winter Sem\\\\ECO481\\\\ourfirstscraper\\\\article_4000_25_1.csv\")\n",
    "webscrapped_26 = pd.read_csv(\"C:\\\\Users\\\\rahul\\\\OneDrive\\\\Desktop\\\\Education\\\\Year 3\\\\Winter Sem\\\\ECO481\\\\ourfirstscraper\\\\article_4000_26.csv\")\n",
    "#webscrapped_26_act = pd.read_csv(\"C:\\\\Users\\\\rahul\\\\OneDrive\\\\Desktop\\\\Education\\\\Year 3\\\\Winter Sem\\\\ECO481\\\\ourfirstscraper\\\\article_4000_26_act.csv\")\n",
    "webscrapped_27 = pd.read_csv(\"C:\\\\Users\\\\rahul\\\\OneDrive\\\\Desktop\\\\Education\\\\Year 3\\\\Winter Sem\\\\ECO481\\\\ourfirstscraper\\\\article_4000_27.csv\")\n",
    "webscrapped_27_act = pd.read_csv(\"C:\\\\Users\\\\rahul\\\\OneDrive\\\\Desktop\\\\Education\\\\Year 3\\\\Winter Sem\\\\ECO481\\\\ourfirstscraper\\\\article_4000_27_act.csv\")\n",
    "\n",
    "\n"
   ]
  },
  {
   "cell_type": "code",
   "execution_count": 11,
   "metadata": {},
   "outputs": [],
   "source": [
    "#Concat all dataframes\n",
    "webscrapped = pd.concat([webscrapped_1, webscrapped_2, webscrapped_3, webscrapped_4, \n",
    "                         webscrapped_5, webscrapped_5_2, webscrapped_5_3, webscrapped_6, webscrapped_7,\n",
    "                         webscrapped_7_2, webscrapped_8, webscrapped_8_2, webscrapped_9, webscrapped_9_2, \n",
    "                         webscrapped_10, webscrapped_10_2, webscrapped_11, webscrapped_11_2, webscrapped_11_3, \n",
    "                         webscrapped_12, webscrapped_12_2, webscrapped_12_4, webscrapped_13, webscrapped_14, \n",
    "                         webscrapped_14_2, webscrapped_14_4_try, webscrapped_15, webscrapped_15_2, webscrapped_15_3, \n",
    "                         webscrapped_16, webscrapped_16_try, webscrapped_17, webscrapped_18, \n",
    "                         webscrapped_19, webscrapped_20, webscrapped_20_2, webscrapped_21, \n",
    "                         webscrapped_21_2, webscrapped_22, webscrapped_22_2, webscrapped_22_3, \n",
    "                         webscrapped_23, webscrapped_23_2, webscrapped_23_3, webscrapped_24, webscrapped_24_2, \n",
    "                        webscrapped_25, webscrapped_25_1, webscrapped_26, webscrapped_27, webscrapped_27_act], ignore_index=True, sort=False)\n"
   ]
  },
  {
   "cell_type": "code",
   "execution_count": 13,
   "metadata": {},
   "outputs": [],
   "source": [
    "df_webscrapped = pd.DataFrame(webscrapped) #making it a dataframe so that we can easily execute functions\n",
    "df_webscrapped = df_webscrapped.drop_duplicates() #dropping duplicates"
   ]
  },
  {
   "cell_type": "code",
   "execution_count": 18,
   "metadata": {},
   "outputs": [],
   "source": [
    "df_webscrapped.to_csv(\"C:\\\\Users\\\\rahul\\\\OneDrive\\\\Desktop\\\\Education\\\\Year 3\\\\Winter Sem\\\\ECO481\\\\ourfirstscraper\\\\webscrapped.csv\", index=False) #saving the dataframe as a csv file"
   ]
  }
 ],
 "metadata": {
  "kernelspec": {
   "display_name": "base",
   "language": "python",
   "name": "python3"
  },
  "language_info": {
   "codemirror_mode": {
    "name": "ipython",
    "version": 3
   },
   "file_extension": ".py",
   "mimetype": "text/x-python",
   "name": "python",
   "nbconvert_exporter": "python",
   "pygments_lexer": "ipython3",
   "version": "3.9.12"
  },
  "orig_nbformat": 4,
  "vscode": {
   "interpreter": {
    "hash": "88279d2366fe020547cde40dd65aa0e3aa662a6ec1f3ca12d88834876c85e1a6"
   }
  }
 },
 "nbformat": 4,
 "nbformat_minor": 2
}
