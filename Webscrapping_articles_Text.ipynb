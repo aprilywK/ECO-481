{
 "cells": [
  {
   "cell_type": "code",
   "execution_count": 1,
   "metadata": {},
   "outputs": [],
   "source": [
    "import numpy as np\n",
    "import pandas as pd"
   ]
  },
  {
   "cell_type": "code",
   "execution_count": 5,
   "metadata": {},
   "outputs": [],
   "source": [
    "articles = pd.read_csv('C:\\\\Users\\\\rahul\\\\OneDrive\\\\Desktop\\\\Education\\\\Year 3\\\\Winter Sem\\\\ECO481\\\\ourfirstscraper\\\\wsj_final.csv')"
   ]
  },
  {
   "cell_type": "code",
   "execution_count": 13,
   "metadata": {},
   "outputs": [],
   "source": [
    "unedited = articles[\"topics\"].unique()"
   ]
  },
  {
   "cell_type": "code",
   "execution_count": 74,
   "metadata": {},
   "outputs": [
    {
     "data": {
      "text/plain": [
       "array(['Special Report: California Power Crisis',\n",
       "       'E-Business: Starting Gate', 'Company Profiles',\n",
       "       'Marketplace Extra', 'Tech Week', 'E-Business', 'From FEER',\n",
       "       'Swiss Stocks', 'Wine Ask', 'Wine Quiz', 'Tales of the Tape',\n",
       "       'Malaysian Stocks', 'Tip Sheet', 'South Korean Stocks',\n",
       "       'Online Investing', 'Out on a Limb', 'Thai Stocks',\n",
       "       'Opinion Journal', 'Tech Timeline', 'IPO', \"Dodge's E-conomy\",\n",
       "       'Tech IPO', 'International Commentary', 'Journal Crossword',\n",
       "       'Health & Medicine', 'Word Mine', 'A Change in Death & Taxes?',\n",
       "       'From ZDNet', 'Playing the Net', 'The Beef Crisis',\n",
       "       'Indonesian Stocks', 'Year After the Peak', '3 Hours in ...',\n",
       "       'Singaporean Stocks', 'The Orphan', 'Wine Day',\n",
       "       'Letters to the Editor', 'Stock Market Quarterly Review',\n",
       "       'Special Report: Entertainment & Technology', 'Philippine Stocks',\n",
       "       'Cyber Investing', 'Power Drain: The U.S. Energy Crisis',\n",
       "       'Tire Threat: The Road to Recall', 'E-Business: Web@Work',\n",
       "       'Municipal Bonds', 'Venture Capitalist',\n",
       "       'Nikkei Net Interactive Headlines', 'Site Seeing',\n",
       "       'Query of the Week', 'Film Archive', 'The Ladder',\n",
       "       \"The Daily Fix: Today's Best Sports Columns\",\n",
       "       'Special Report: Convergence', \"Asia's Value Creators\"],\n",
       "      dtype=object)"
      ]
     },
     "execution_count": 74,
     "metadata": {},
     "output_type": "execute_result"
    }
   ],
   "source": [
    "unedited[2600:]"
   ]
  },
  {
   "cell_type": "code",
   "execution_count": 76,
   "metadata": {},
   "outputs": [],
   "source": [
    "relevant_topics = [\"Asia's Value Creators\", 'E-Business: Web@Work',\n",
    "       'Municipal Bonds', 'Venture Capitalist', 'Stock Market Quarterly Review',\n",
    "       'Special Report: Entertainment & Technology', 'Philippine Stocks',\n",
    "       'Cyber Investing', 'Power Drain: The U.S. Energy Crisis', 'Indonesian Stocks', 'Year After the Peak', '3 Hours in ...',\n",
    "       'Singaporean Stocks' 'South Korean Stocks',\n",
    "       'Online Investing', 'Out on a Limb', 'Thai Stocks',\n",
    "       'Opinion Journal', 'Swiss Stocks', 'Marketplace Extra', 'Tech Week', 'E-Business', 'Special Report: Mutual Funds Quarterly Review',\n",
    "       'Nikkei Net Interactive News', 'Small Business Suite', 'E-World',\n",
    "       'Personal Finance Center - Investing', 'Your Career Matters', 'Boom Town', 'Boom Town Exchange',\n",
    "       'World-Wide', 'Taste Feature', 'Hong Kong Stocks',\n",
    "       'Work & Life Mailbox', 'Work Week', 'Capital Center', 'Business and Finance - Europe', 'Tech Center',\n",
    "       'Business and Finance - Asia', 'European Stocks',\n",
    "       'Canadian Stocks', 'Americas Stocks', 'The Euro: Cash in Hand',\n",
    "       'Major Business News', 'Special Report: Aftermath of Terror',\n",
    "       'The Wall Street Journal Sunday', 'A Balanced Life',\n",
    "       'Special Report: E-Commerce', 'Japanese Stocks',\n",
    "       'Special Report: Asian Wall Street Journal Quarterly Mutual Fund Report',\n",
    "       'Special Report: European Mutual Funds Quarterly Review',\n",
    "       'Showdown: The Microsoft Case', 'Corrections & Amplifications',\n",
    "       'Earnings Focus', 'Diversions', 'Business Fare','Small U.S. Stocks', 'Money & Investing',\n",
    "       'Help Wanted', 'Heard on the Net',\n",
    "       'Year-End Review of Markets & Finance', 'Automobiles',\n",
    "       'Two Years Later', 'The U.N.: Searching for Relevance',\n",
    "       'SR: Stock Market Quarterly 2003-3','War on Terror',\n",
    "       'SR: E-Commerce 2003-1', 'The Numbers Game', 'Financial Planning','Your Money Main',\n",
    "       'World Economic Forum 2003', 'Asia Briefs', 'Mutual Funds Quarterly Review 2002-Final',\n",
    "       'Analyzing the Analysts', 'First Impressions', 'Europe Briefs',\n",
    "       'Questioning the Books', 'JR: Trends', 'JR: Encore 6/04', 'Venture Capital', 'SMQ2004-02',\n",
    "       'JR: Small Business 2004-1', 'Infogrfx Stat Snapshot VideoDVD',\n",
    "       'Campaign Posts', 'Infogrfx Stat Snapshot Magazines', 'JR: 401(k)',\n",
    "       'Convention Notebook','SR: Careers 2004-1', 'Microsoft Case', 'SR: MFQ 2004-1',\n",
    "       'SR: Golf 2004', 'Bankrate Autos News', \"Google's IPO\",\n",
    "       'Marketplace Feature', 'Drinking Around', 'Asian Advertising',\n",
    "       'Review & Outlook (Taste)','Taking Stock', 'Tech Briefs','JR: Trends Nov 2005', 'JR: Your Money Matters Nov 2005',\n",
    "       'JR: Encore Dec 2005', 'JR: Technology Dec 2005',\n",
    "       'SR: Year-End Review 2003','JR: Personal Health Oct 2005', 'JR: CorpGov Oct 2005',\n",
    "       'Clutter Study Low', 'JR: Technology Oct 2005','JR: Football 8-2005', 'Hurricane Katrina',\n",
    "       \"Barron''s Investment Insight\", \"Investor''s Calendar\",\n",
    "       'JR: Encore 0905', 'EU Notebook', 'Eurasia', 'JR: SMQ 3-2005','Mutual Funds Quarterly Review', 'Terror In London',\n",
    "       'JR: Technology July 2005', 'Your Money Matters 8-2005',\n",
    "       'Special Page: Markets', 'The Global Player', 'Money Matters 6/05','JR: Technology 04/05', 'Expanding the Union',\n",
    "       'The Wealth Manager', 'Harris Poll Europe', 'Generic Column',\n",
    "       'JR: Small Business 2005-1', 'Business Focus','Heard in Europe','Stock Market Quarterly 1-2005', 'MFQ 2005-1',\n",
    "       'Home Economics', 'Executive Pay 2005', 'Capital Exchange', 'Long and Short Mailbox',\n",
    "       'Social Security Reform', 'Real Time Exchange',\n",
    "       'JR: Encore 1-2005', 'Takeoffs and Landings' 'JR: Personal Health March 2006',\n",
    "       'JR: Your Money Matters March 2006', 'JR: Technology April 2006',\n",
    "       'JR: SMQ 1-2006', 'JR: Executive Compensation April 2006',\n",
    "       'Details', 'JR: Automotive April 2006',\n",
    "       'The Journal Report: Automotive',\n",
    "       'THE JOURNAL REPORT: The WSJ 350: A Survey of CEO Compensation' 'Market Beat' 'Dow Jones Real-Estate Index', 'THE JOURNAL REPORT: BUSINESS INSIGHT',\n",
    "       'Funds Monthly Analysis August 2007',\n",
    "       'JR: Business Insight Sept 2007', 'JR: Business Schools Sept 2007','JR: Your Money Matters March 2007', 'Media Q & A', 'Reply All',\n",
    "       'Infogrfx Go Figure Home', 'JR: Small Business March 2007',\n",
    "       'THE JOURNAL REPORT: SMALL BUSINESS', 'JR: Technology March 2007',\n",
    "       'In Translation', 'JR: MFQ 1-2007', 'JR: Encore March 2007',\n",
    "       'The Journal Report: Encore', 'Executives on Trial',\n",
    "       'JR: Boss Talk April 2007', 'Infogrfx Go Figure Mutual Funds',\n",
    "       'CEO Compensation 2007', 'JR: Business Insight April 2007',\n",
    "       'JR: Small Business April 2007', 'Mutual Funds Monthly May 2007',\n",
    "       'WSJ Online/Harris Interactive PersonalFinancePoll',\n",
    "       'JR: Encore May 2007', 'THE JOURNAL REPORT: BEST ON THE STREET',\n",
    "       'JR: Technology May 2007', 'JR: Best on the Street May 2007',\n",
    "       \"What They're Wearing\", 'Funds Monthly Analysis June 2007',\n",
    "       'JR: Economic Roundup June 2007', 'Auto Word',\n",
    "       'THE JOURNAL REPORT: ECONOMIC ROUNDUP',\n",
    "       'Infogrfx Go Figure Travel', 'JR: Business Insight June 2007',\n",
    "       'JR: Technology June 2007', 'JR: SMQ 2-2007', 'Washington Wire',\n",
    "       'JR: MFQR 2-2007', 'YOUR MONEY MATTERS',\n",
    "       'INVESTING IN FUNDS: A MONTHLY ANALYSIS',\n",
    "       'Standoff With North Korea', 'JR: Encore July 2007',\n",
    "       'Power Tables', 'Wall Street Journal Books',\n",
    "       'JR: Mutual Funds Monthly July 2007',\n",
    "       'JR: Small Business Aug 2007', 'The Journal Report: Business Insight', 'The Wealth Report', 'SMALL BUSINESS', \"BARRON'S INSIGHT\",\n",
    "       'Breaking the Mold', \"INVESTOR'S CALENDAR\", 'Best of 2008',\n",
    "       'Art & Architecture', 'ENCORE', 'FAMILY FINANCES', 'SMARTMONEY',\n",
    "       'Assault on Gaza', 'YEAR-END REVIEW OF MARKETS AND FINANCE',\n",
    "       'JR: MFQ 4-2006', 'STARTING OUT', \"TOM HERMAN'S TAX TIP\",'Art & the Economy','Wall Street Crisis', 'Loans and Credit', 'Business Bookshelf', 'JR: CEO Pay April 2008', 'Executive Dining', 'Lab Journal',\n",
    "       'Letter From The City', 'Your Money Matters', 'JR: YMM April 2008',\n",
    "       'JR: Encore May 2008', 'JR: Encore April 2008', 'Philippines 2008',\n",
    "       'Excursions', 'JR: Funds Monthly April 2008', 'Indonesia 2008',\n",
    "       'JR: BOTS May 2008', 'Talking Tech', \"McCain's Senior Advisers\",\n",
    "       'Second Acts', 'Fighting Words', 'Thailand 2008', 'Breaking Views',\n",
    "       'The Gallery', 'Malaysia 2008','Econ One on One',\n",
    "       'JR: Environment March 2008', 'JR: Encore March 2008',\n",
    "       'Taiwan 2008', 'Faux Pas', 'JR: MFQ 1-2008',\n",
    "       \"What's in your closet?\", 'JR: SMQ 1-2008',  'JR: Scoreboard Feb. 2008',\n",
    "       'AsiaLinks Daily View', 'Green Thumb', 'McCainonomics',\n",
    "       'JR: Funds Monthly March 2008', 'Theory', 'On Technology',\n",
    "       'Investing in Funds: A Monthly Analysis',\n",
    "       'JR: Business Insight March 2008','Political Exchange', 'Fiscally Fit', 'Money & Kids','E-Commerce', 'Unrest in Iran',\n",
    "       'Law & Order', 'U.S. Business News', 'Portals',\n",
    "       'JR: Year-End Review 2007', 'Americas Markets', 'The Evening Wrap',\n",
    "       'Tech Stocks', 'The Afternoon Report', 'The Morning Brief', 'Future of Finance', 'Decade in Review', 'US',\n",
    "       'Sovereign Fund Watch', 'Holidays 2009', 'International Markets', 'India Business News', 'G-20 Summit',  \"Lehman's Legacy\", 'Economists React', 'SmartMoney Fund Screen', 'World Markets',\n",
    "       'Investing in Funds: A Quarterly Analysis', 'SmartMoney Stock Screen', 'JR: Wealth Manager April 09', 'Microtrends', 'Investing in Funds, February 2009', 'Economic Forecasting',\n",
    "       'The Weekend Adviser', 'Europe & Recovery', 'After the Boom',  'The Satyam Scandal', 'Financial Crisis', 'Americas Business News', 'Asian Business News', '2009 Previews',\n",
    "       '2009 Preview', 'Entertainment', 'Blueprint', 'Markets Main', 'Family Finance', 'The Obama Budget', 'Review & Outlook Europe', 'Reviews', 'MarketBeat', 'Review & Outlook Asia', 'Statshot', 'Asiadeal',\n",
    "       'Marketing Decoder', 'Market Focus', 'Sandy', 'Publishing', 'Next in Tech',\n",
    "       'The Big Bet', 'City Hall', 'Urban Gardner ', 'Hurricane Sandy',\n",
    "       'World Stock Markets', \"What's the Deal?\", 'Evolution', 'Debut',\n",
    "       'Markets Review & Outlook', 'Investing', 'Investing in Funds', 'Weath Manager Q&A',  'Business Europe', 'Corporate News',  'Investing in Asia', 'Asia Deal Journal', 'Financial News Notebook', 'Technology Journal',\n",
    "       'The Lehman Bankruptcy Report', 'Accidental Entrepreneur','Options Trading', 'Adviser Alert','Commodities Markets', 'Weekend Asia', 'Small Stock Focus',  'Intelligent Investor', 'Commodities Report', 'India News', 'Heard on the Links', 'Weekend Europe', 'Football',\n",
    "       'Wine', 'New Global Indian',  'Asia News', 'Europe News', 'Wealth Manager', \"Tuesday's Markets\", \"Friday's Markets\", 'The Budget Battle', 'Careers Q&A', 'Marketbeat',\n",
    " 'Innovations in Energy', 'This Week: Feb. 21-25', 'My China',\n",
    "       'Maximum Money', 'Curriencies',\n",
    "       'Wealth Manager Q&A', 'Lifestyle Boost', 'Financing', \"China's Money Trail\", 'Target-Date Funds ',  'Marketplace', 'Currency Markets',\n",
    "       'The SmartMoney Report', 'Business Insight',\n",
    "       'Where We Work', 'International Property Report',\n",
    "       'Style & Travel', 'Sunday Investment Dashboard', 'Business Asia', 'Wealth',\n",
    "       'Leadership in Corporate Finance', 'DJFX Trader', 'Sunday Investment Dartboard', 'Opinion Asia', 'MarketWatch', 'Mutual Funds', \"China's Rising Risks\", 'Race for Resources', 'The Business',\n",
    "       'Down & Distance', 'International Property', 'Opinion Europe',\n",
    "       'Business Schools', 'Reviews', 'MarketBeat',\n",
    "       'Review & Outlook Asia', 'Statshot', 'Markets Review & Outlook',\n",
    "       'My Spring Thing', 'Asiadeal', 'World Stock Markets', 'Next in Tech', 'The Big Bet', 'Market Focus', 'Investing', 'Week in Ideas', 'Week in Words',\n",
    "       '2013 Outlook', 'DJ FX Trader', 'Review', 'The Year in Review', 'Asia Tech',\n",
    "       'Don’t Miss',  'Economics', 'Brett’s Tip', 'Asia Tech', 'Investment Quiz', 'Europe Stocks', \n",
    "       'Financial Briefing Book', 'Home Tech', 'Honduras', 'Immigration', 'South Pacific',\n",
    "       'Turkey Turkiye', 'Cranky Consumer', 'The Journal Report', 'In the News', 'Capital', 'Review & Outlook NoCo', 'Foreign Affairs','On the Horizon', 'Asiastox',\n",
    "       'Remembrances | 1944-2014', 'India Politics', 'Congress',\n",
    "       'Business Technology','Your Executive Career',\n",
    "       'Next In Tech','The Research Report','Target-Date Funds','U.K. News','Housing', 'Europe Business','Whats News Business Finance Asia', 'Labor' 'Real Estate Dynasties', 'Mind & Matter', 'New York Property', 'Whats News Business Finance Europe', 'Hong Kong News','Review & Outlook (Europe)',\n",
    "       'Tech Europe', 'N.Y. Politics',\"Today's Markets\",  'Review &amp; Outlook (U.S.)','Japan News', 'Insurance',\n",
    "       \"Barron's Investment Insight\", 'NYC Politics', 'Investing Basics','Big Small Talk', 'Management',\n",
    "       'Current Account','Asia Technology', 'China News',\n",
    "       'Asia Business', 'Canada News', \"Al's Emporium\",\n",
    "       'The Accidental Entrepreneur', 'Personal Business', 'Mideast',\n",
    "       'Russia News', 'Careers', 'Year Ahead', 'Review & Outlook (Asia)', 'Review & Outlok','business world', 'the weekend interview', 'Spread Sheet',\n",
    "       'India Women', \"China's World\", 'InnovAsia', 'bookshelf',\n",
    "       'Wall Street', 'Alternative Investing', 'New York Politics',  'Review & outlook', 'Blog: Business', 'Work Wear',\n",
    "       'Taxes','Forex Main', 'Politics and Policy', 'On Stage', 'Information Security',\n",
    "       'Journal Report','Tech', 'Politics', 'U.S.', 'Latin America', 'Business', 'Economy Week Ahead', 'China', 'Asia', 'U.S. Markets', \n",
    "                   'World', 'Russia', 'Finance', 'Earnings', 'Journal Reports: Investing Monthly','Review & Outlook', 'Cryptocurrency', \n",
    "                   'Credit Markets', 'Risk & Compliance Journal', 'Global View', 'Autos Industry', 'Canada', 'The Americas', 'Middle East', \n",
    "                   'Economy', 'Europe', 'Pro Bankruptcy','Business World', 'U.S. Economy', 'Central Banks', 'CFO Journal','Markets', \n",
    "                   'Journal Reports', 'Logistics Report', 'Stocks', 'U.K.', 'private properties','Financial Regulation', 'Personal Finance', \n",
    "                   'Asia Economy', 'DEVELOPING', 'Pro Bankruptcy Distress','Journal Reports: Energy', 'Earnings Preview', 'Politics & Ideas',\n",
    "                   'Pro PE Fund News', 'Japan', 'Election 2024','Property Report', 'Journal Reports: Wealth Management', 'Deals',\n",
    "                   'Political Economics', 'UKRAINE WAR, ONE YEAR ON','THE EXPERTS | Energy', 'Capital account', 'Oil Markets', 'Oil Markets', \n",
    "                   'Treasurys','Pro Cyber Research', 'Law', 'Commodities', 'Journal Reports: Personal Investing', 'India', \n",
    "                   'Ask WSJ Pro Central Banks', 'Market Makers', 'Boss Talk','Hedge Funds','Real Estate', 'PRIVATE PROPERTIES', \n",
    "                   'Gas Markets', 'ETFs', 'Pro Bankruptcy International', 'Pro Bankruptcy International',  'General News', \n",
    "                   'Private Proeprties', 'Pro Bankruptcy Credit Markets','Pro PE Industry News', 'Time Capsule', 'Management & Careers', 'The Future of Everything | Cities & Real Estate', \n",
    "                   'Journal Reports: Retirement', 'Consumer Technology', 'Foreign Exchange',\n",
    "       'Journal Reports: Small Business','Europe Markets', 'Pro Bankruptcy Commentary Analysis', 'Jobs', 'Homes', 'Sustainable Business',\n",
    "       'The Future of Everything | Money & Finance', 'Pro PE Legal Regulatory', 'Economic Data',  'Central Banks Commentary', 'Bonds', 'Capital ACCOUNT',\n",
    "        'Journal Reports: Funds/ETFs', 'Small Money Series', 'Pro Bankruptcy Bankruptcy',\n",
    "       'The Future of Everything | Work', 'Capital Journal', 'Pro VC Commentary Analysis',\n",
    "       'Wealth Management', 'CAPITAL ACCOUNT', 'BONDS',  'Tax Report', 'Money', 'Pro Bankruptcy Beyond Bankruptcy',  'The Intelligent Investor',  'Back in Business','Europe Economy', 'Your Money', 'Pro Bankruptcy Investors',\n",
    "       'Small Business', 'Pro VC Regulatory', 'News', 'Business Education', 'Career Reboot',\n",
    "       'Letter to Readers', 'World News', 'Ask Bonds', 'Review | Joanna Stern',\n",
    "       'Market Report', 'WSJ CEO COUNCIL',\n",
    "       'Metro Money','CMO', 'Americas', 'ANALYSIS',\n",
    "       'Weekend Investor', 'MoneyBeat',  'Upward Mobility ', 'Pro VC Newsletter',\n",
    "       'Pro VC VC Funds',  'Pro VC People',\n",
    "       'WSJ TECH LIVE', 'Women in the Workplace','Global Markets', 'Financial Regulation Commentary',\n",
    "       'Politics and Ideas','Financial Regulation Research', 'BUSINESS WORLD',\n",
    "       'REVIEW & OUTLOOK ', 'Pro Bankruptcy People',\n",
    "       'Journal Reports: Funds & ETFs',  'China’s World', 'Pro Cyber Editor Picks', 'Europe File', 'POLITICAL ECONOMICS', 'POLITICS & IDEAS', 'GLOBAL MARKETS',\n",
    "       'Leadership', 'Pro VC Partnerships', 'The World the Crisis Created', 'The World the Crisis Created', 'Pro Bankruptcy Newsletter',\n",
    "       'Retirement', 'Pro PE Announcements', 'Pro PE Newsletter', 'Quarterly Markets Review', 'CAPITAL JOURNAL',  'Outlook', 'Pro PE Restructuring Bankruptcy', 'Life',\n",
    "       'THE INTELLIGENT INVESTOR', 'Price of Climate', 'Trending',\n",
    "       'Poltics & Ideas', 'Research Report', 'Off the Charts', 'Heard on the Field',  'Commercial Real Estate',\n",
    "       'MIDDLE EAST CROSSROADS', 'Financial Inclusion', 'Week Ahead', 'Middle East Crossroads',\n",
    "       'Quarter-End Review', 'Court Reporter','Trump’s First 100 Days', 'Energy', 'WSJ CEO Council ',\n",
    "       'EUROPE FILE', 'WSJ D.Live Asia', 'WSJ D.Live Asia ', 'News Briefs', \n",
    "       'Border Lands', 'Journal Reports: Tech Companies to Watch',\n",
    "       'REVIEW & OUTLOOK', 'Second-Quarter Report', 'THE AMERICAS', 'Mega Meal', 'Pro Central Banks Newsletter',\n",
    "       'Central Banks Research', 'POTOMAC WATCH', 'Third-Quarter Report',\n",
    "       'Street Moves', 'WSJ D.Live 2017', 'Holidays',\n",
    "       'Pro Bankruptcy High Yield', 'review & outlook', 'Year in Review', 'EAST IS EAST', 'Markets Year in Review',\n",
    "       'World Year in Review',\n",
    "       '2017 in Review | Politics', 'The Year Ahead','The Weekend Profile', 'Abreast of the Market', 'Blog: Money & Investing', 'Inside America’s Boardrooms',\n",
    "       'NY Region', 'Wealth Adviser', 'Unhedged', 'Pro VC Shutdowns', 'R and D', 'OFF THE CHARTS',  'Developing News', 'Fintech',\n",
    "       'U.S. News Briefs',  'Politics & Policy','Blog: Tech',\n",
    "       'Financial News Briefs',  'Global Economy Week Ahead', 'World News Briefs',  'Off The Charts', 'Ask Dow Jones', 'Target Funds',\n",
    "       'The Aggregator', 'Mexico', 'Technology', 'Nigeria', 'Review & Outlook (U.S.)', 'Asia Markets',\n",
    "       'Brazil', 'NY Real Estate', 'State of the Union',   'Peru',\n",
    "       'Commercial Property',  'Bonds: On Relationships', 'Southeast Asia', 'Billion Dollar Startup Club',  'Corporate Watch', \n",
    "        'Venezuela', 'Afghanistan', 'R&D',\n",
    "       'Horizons', 'Boss Talk Asia', 'Funds', 'Colombia', 'Fund Fiend', 'U.S. News', 'Autos',\n",
    "       'World News NoCo', 'Chile', 'Tunisia', 'Ecuador', 'Financing the Future',\n",
    "       'Kenya',   \n",
    "       \n",
    "]"
   ]
  },
  {
   "cell_type": "code",
   "execution_count": null,
   "metadata": {},
   "outputs": [],
   "source": []
  },
  {
   "cell_type": "code",
   "execution_count": 84,
   "metadata": {},
   "outputs": [],
   "source": [
    "dic = {'topics' : relevant_topics}\n",
    "df = pd.DataFrame(dic)\n",
    "final_articles = pd.merge(df, articles, on = [\"topics\"], how = \"inner\")"
   ]
  },
  {
   "cell_type": "code",
   "execution_count": 93,
   "metadata": {},
   "outputs": [
    {
     "data": {
      "text/plain": [
       "'https://www.wsj.com/articles/SB1011377131687989520'"
      ]
     },
     "execution_count": 93,
     "metadata": {},
     "output_type": "execute_result"
    }
   ],
   "source": [
    "a = final_articles.reset_index(drop = True)['links']\n",
    "a = a.drop_duplicates()\n",
    "a = a.reset_index(drop = True)\n",
    "a[0]"
   ]
  },
  {
   "cell_type": "code",
   "execution_count": 100,
   "metadata": {},
   "outputs": [],
   "source": [
    "file = open('webscrapped_articles.txt', 'w')\n",
    "for item in a[0:4000]:\n",
    "\tfile.write(\"\\\"\" + item+ \"\\\"\" + \",\" +\"\\n\")\n",
    "file.close()"
   ]
  },
  {
   "cell_type": "code",
   "execution_count": 102,
   "metadata": {},
   "outputs": [],
   "source": [
    "file = open('webscrapped_articles_1.txt', 'w')\n",
    "for item in a[4000:8000]:\n",
    "\tfile.write(\"\\\"\" + item+ \"\\\"\" + \",\" +\"\\n\")\n",
    "file.close()"
   ]
  },
  {
   "cell_type": "code",
   "execution_count": 103,
   "metadata": {},
   "outputs": [],
   "source": [
    "file = open('webscrapped_articles_2.txt', 'w')\n",
    "for item in a[8000:12000]:\n",
    "\tfile.write(\"\\\"\" + item+ \"\\\"\" + \",\" +\"\\n\")\n",
    "file.close()"
   ]
  },
  {
   "cell_type": "code",
   "execution_count": 104,
   "metadata": {},
   "outputs": [],
   "source": [
    "file = open('webscrapped_articles_3.txt', 'w')\n",
    "for item in a[12000:16000]:\n",
    "\tfile.write(\"\\\"\" + item+ \"\\\"\" + \",\" +\"\\n\")\n",
    "file.close()"
   ]
  },
  {
   "cell_type": "code",
   "execution_count": 107,
   "metadata": {},
   "outputs": [],
   "source": [
    "file = open('webscrapped_articles_4.txt', 'w')\n",
    "for item in a[16000:20000]:\n",
    "\tfile.write(\"\\\"\" + item+ \"\\\"\" + \",\" +\"\\n\")\n",
    "file.close()"
   ]
  },
  {
   "cell_type": "code",
   "execution_count": 108,
   "metadata": {},
   "outputs": [],
   "source": [
    "file = open('webscrapped_articles_5.txt', 'w')\n",
    "for item in a[20000:24000]:\n",
    "\tfile.write(\"\\\"\" + item+ \"\\\"\" + \",\" +\"\\n\")\n",
    "file.close()"
   ]
  },
  {
   "cell_type": "code",
   "execution_count": 109,
   "metadata": {},
   "outputs": [],
   "source": [
    "file = open('webscrapped_articles_6.txt', 'w')\n",
    "for item in a[24000:28000]:\n",
    "\tfile.write(\"\\\"\" + item+ \"\\\"\" + \",\" +\"\\n\")\n",
    "file.close()"
   ]
  },
  {
   "cell_type": "code",
   "execution_count": 111,
   "metadata": {},
   "outputs": [],
   "source": [
    "file = open('webscrapped_articles_7.txt', 'w')\n",
    "for item in a[28000:32000]:\n",
    "\tfile.write(\"\\\"\" + item+ \"\\\"\" + \",\" +\"\\n\")\n",
    "file.close()"
   ]
  },
  {
   "cell_type": "code",
   "execution_count": 112,
   "metadata": {},
   "outputs": [],
   "source": [
    "file = open('webscrapped_articles_8.txt', 'w')\n",
    "for item in a[32000:36000]:\n",
    "\tfile.write(\"\\\"\" + item+ \"\\\"\" + \",\" +\"\\n\")\n",
    "file.close()"
   ]
  },
  {
   "cell_type": "code",
   "execution_count": 114,
   "metadata": {},
   "outputs": [],
   "source": [
    "file = open('webscrapped_articles_9.txt', 'w')\n",
    "for item in a[36000:40000]:\n",
    "\tfile.write(\"\\\"\" + item+ \"\\\"\" + \",\" +\"\\n\")\n",
    "file.close()"
   ]
  },
  {
   "cell_type": "code",
   "execution_count": 115,
   "metadata": {},
   "outputs": [],
   "source": [
    "file = open('webscrapped_articles_10.txt', 'w')\n",
    "for item in a[40000:44000]:\n",
    "\tfile.write(\"\\\"\" + item+ \"\\\"\" + \",\" +\"\\n\")\n",
    "file.close()"
   ]
  },
  {
   "cell_type": "code",
   "execution_count": 117,
   "metadata": {},
   "outputs": [],
   "source": [
    "file = open('webscrapped_articles_11.txt', 'w')\n",
    "for item in a[44000:48000]:\n",
    "\tfile.write(\"\\\"\" + item+ \"\\\"\" + \",\" +\"\\n\")\n",
    "file.close()"
   ]
  },
  {
   "cell_type": "code",
   "execution_count": 120,
   "metadata": {},
   "outputs": [],
   "source": [
    "file = open('webscrapped_articles_12.txt', 'w')\n",
    "for item in a[48000:52000]:\n",
    "\tfile.write(\"\\\"\" + item+ \"\\\"\" + \",\" +\"\\n\")\n",
    "file.close()"
   ]
  },
  {
   "cell_type": "code",
   "execution_count": 122,
   "metadata": {},
   "outputs": [],
   "source": [
    "file = open('webscrapped_articles_13.txt', 'w')\n",
    "for item in a[52000:56000]:\n",
    "\tfile.write(\"\\\"\" + item+ \"\\\"\" + \",\" +\"\\n\")\n",
    "file.close()"
   ]
  },
  {
   "cell_type": "code",
   "execution_count": 123,
   "metadata": {},
   "outputs": [],
   "source": [
    "file = open('webscrapped_articles_14.txt', 'w')\n",
    "for item in a[56000:60000]:\n",
    "\tfile.write(\"\\\"\" + item+ \"\\\"\" + \",\" +\"\\n\")\n",
    "file.close()"
   ]
  },
  {
   "cell_type": "code",
   "execution_count": 124,
   "metadata": {},
   "outputs": [],
   "source": [
    "file = open('webscrapped_articles_15.txt', 'w')\n",
    "for item in a[60000:64000]:\n",
    "\tfile.write(\"\\\"\" + item+ \"\\\"\" + \",\" +\"\\n\")\n",
    "file.close()"
   ]
  },
  {
   "cell_type": "code",
   "execution_count": 125,
   "metadata": {},
   "outputs": [],
   "source": [
    "file = open('webscrapped_articles_16.txt', 'w')\n",
    "for item in a[64000:68000]:\n",
    "\tfile.write(\"\\\"\" + item+ \"\\\"\" + \",\" +\"\\n\")\n",
    "file.close()"
   ]
  },
  {
   "cell_type": "code",
   "execution_count": 126,
   "metadata": {},
   "outputs": [],
   "source": [
    "file = open('webscrapped_articles_17.txt', 'w')\n",
    "for item in a[68000:72000]:\n",
    "\tfile.write(\"\\\"\" + item+ \"\\\"\" + \",\" +\"\\n\")\n",
    "file.close()"
   ]
  },
  {
   "cell_type": "code",
   "execution_count": 127,
   "metadata": {},
   "outputs": [],
   "source": [
    "file = open('webscrapped_articles_18.txt', 'w')\n",
    "for item in a[72000:76000]:\n",
    "\tfile.write(\"\\\"\" + item+ \"\\\"\" + \",\" +\"\\n\")\n",
    "file.close()"
   ]
  },
  {
   "cell_type": "code",
   "execution_count": 128,
   "metadata": {},
   "outputs": [],
   "source": [
    "file = open('webscrapped_articles_19.txt', 'w')\n",
    "for item in a[76000:80000]:\n",
    "\tfile.write(\"\\\"\" + item+ \"\\\"\" + \",\" +\"\\n\")\n",
    "file.close()"
   ]
  },
  {
   "cell_type": "code",
   "execution_count": 129,
   "metadata": {},
   "outputs": [],
   "source": [
    "file = open('webscrapped_articles_20.txt', 'w')\n",
    "for item in a[80000:84000]:\n",
    "\tfile.write(\"\\\"\" + item+ \"\\\"\" + \",\" +\"\\n\")\n",
    "file.close()"
   ]
  },
  {
   "cell_type": "code",
   "execution_count": 130,
   "metadata": {},
   "outputs": [],
   "source": [
    "file = open('webscrapped_articles_21.txt', 'w')\n",
    "for item in a[84000:88000]:\n",
    "\tfile.write(\"\\\"\" + item+ \"\\\"\" + \",\" +\"\\n\")\n",
    "file.close()"
   ]
  },
  {
   "cell_type": "code",
   "execution_count": 131,
   "metadata": {},
   "outputs": [],
   "source": [
    "file = open('webscrapped_articles_22.txt', 'w')\n",
    "for item in a[88000:92000]:\n",
    "\tfile.write(\"\\\"\" + item+ \"\\\"\" + \",\" +\"\\n\")\n",
    "file.close()"
   ]
  },
  {
   "cell_type": "code",
   "execution_count": 132,
   "metadata": {},
   "outputs": [],
   "source": [
    "file = open('webscrapped_articles_23.txt', 'w')\n",
    "for item in a[92000:96000]:\n",
    "\tfile.write(\"\\\"\" + item+ \"\\\"\" + \",\" +\"\\n\")\n",
    "file.close()"
   ]
  },
  {
   "cell_type": "code",
   "execution_count": 133,
   "metadata": {},
   "outputs": [],
   "source": [
    "file = open('webscrapped_articles_24.txt', 'w')\n",
    "for item in a[96000:100000]:\n",
    "\tfile.write(\"\\\"\" + item+ \"\\\"\" + \",\" +\"\\n\")\n",
    "file.close()"
   ]
  },
  {
   "cell_type": "code",
   "execution_count": 136,
   "metadata": {},
   "outputs": [],
   "source": [
    "file = open('webscrapped_articles_25.txt', 'w')\n",
    "for item in a[100000:104000]:\n",
    "\tfile.write(\"\\\"\" + item+ \"\\\"\" + \",\" +\"\\n\")\n",
    "file.close()"
   ]
  },
  {
   "cell_type": "code",
   "execution_count": 135,
   "metadata": {},
   "outputs": [],
   "source": [
    "file = open('webscrapped_articles_26.txt', 'w')\n",
    "for item in a[104000:]:\n",
    "\tfile.write(\"\\\"\" + item+ \"\\\"\" + \",\" +\"\\n\")\n",
    "file.close()"
   ]
  }
 ],
 "metadata": {
  "kernelspec": {
   "display_name": "base",
   "language": "python",
   "name": "python3"
  },
  "language_info": {
   "codemirror_mode": {
    "name": "ipython",
    "version": 3
   },
   "file_extension": ".py",
   "mimetype": "text/x-python",
   "name": "python",
   "nbconvert_exporter": "python",
   "pygments_lexer": "ipython3",
   "version": "3.9.12"
  },
  "orig_nbformat": 4
 },
 "nbformat": 4,
 "nbformat_minor": 2
}
